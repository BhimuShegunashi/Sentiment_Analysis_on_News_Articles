{
  "nbformat": 4,
  "nbformat_minor": 0,
  "metadata": {
    "colab": {
      "provenance": []
    },
    "kernelspec": {
      "name": "python3",
      "display_name": "Python 3"
    },
    "language_info": {
      "name": "python"
    }
  },
  "cells": [
    {
      "cell_type": "markdown",
      "source": [
        "Name - Bhimanna Shegunashi <div>\n",
        "Address - Pune, Maharashtra\n",
        "Email - bhimushegunashi@gmail.com<div>\n",
        "Phone No. - +91-7558330774\n"
      ],
      "metadata": {
        "id": "tx18oBM0BFef"
      }
    },
    {
      "cell_type": "markdown",
      "source": [
        "##1.\tObjective"
      ],
      "metadata": {
        "id": "_T5Dw7BnT5Dm"
      }
    },
    {
      "cell_type": "markdown",
      "source": [
        "The objective of this assignment is to extract textual data articles from the given URL and perform text analysis to compute variables that are explained below."
      ],
      "metadata": {
        "id": "noCHIpntT-VX"
      }
    },
    {
      "cell_type": "markdown",
      "source": [
        "##2.\tData Extraction"
      ],
      "metadata": {
        "id": "48pVzWMzTls4"
      }
    },
    {
      "cell_type": "markdown",
      "source": [
        "Input.xlsx <div>\n",
        "\n",
        "For each of the articles, given in the input.xlsx file, extract the article text and save the extracted article in a text file with URL_ID as its file name.\n",
        "While extracting text, please make sure your program extracts only the article title and the article text. It should not extract the website header, footer, or anything other than the article text.\n",
        "\n",
        "NOTE: YOU MUST USE PYTHON PROGRAMMING TO EXTRACT DATA FROM THE URLs. YOU CAN USE BEATIFULSOUP, SELENIUM OR SCRAPY, OR ANY OTHER PYTHON LIBRARIES THAT YOU PREFER FOR DATA CRAWLING.\n"
      ],
      "metadata": {
        "id": "ma_JUUI5TtwR"
      }
    },
    {
      "cell_type": "code",
      "source": [
        "import pandas as pd\n",
        "import numpy as np\n",
        "import nltk\n",
        "from nltk.tokenize import word_tokenize, sent_tokenize\n",
        "from nltk.sentiment import SentimentIntensityAnalyzer\n",
        "from nltk.corpus import stopwords\n",
        "from nltk.tokenize import word_tokenize\n",
        "import re\n",
        "from collections import Counter\n",
        "nltk.download('punkt')\n",
        "nltk.download('stopwords')\n",
        "nltk.download('cmudict')\n",
        "nltk.download('vader_lexicon')"
      ],
      "metadata": {
        "id": "A3DYutEl5iq8",
        "colab": {
          "base_uri": "https://localhost:8080/"
        },
        "outputId": "55a39e5e-7d43-46f8-aa91-fde05bd83c88"
      },
      "execution_count": 35,
      "outputs": [
        {
          "output_type": "stream",
          "name": "stderr",
          "text": [
            "[nltk_data] Downloading package punkt to /root/nltk_data...\n",
            "[nltk_data]   Package punkt is already up-to-date!\n",
            "[nltk_data] Downloading package stopwords to /root/nltk_data...\n",
            "[nltk_data]   Package stopwords is already up-to-date!\n",
            "[nltk_data] Downloading package cmudict to /root/nltk_data...\n",
            "[nltk_data]   Package cmudict is already up-to-date!\n",
            "[nltk_data] Downloading package vader_lexicon to /root/nltk_data...\n",
            "[nltk_data]   Package vader_lexicon is already up-to-date!\n"
          ]
        },
        {
          "output_type": "execute_result",
          "data": {
            "text/plain": [
              "True"
            ]
          },
          "metadata": {},
          "execution_count": 35
        }
      ]
    },
    {
      "cell_type": "code",
      "source": [
        "from google.colab import drive\n",
        "drive.mount('/content/drive')"
      ],
      "metadata": {
        "colab": {
          "base_uri": "https://localhost:8080/"
        },
        "id": "HakJIpYQ50-W",
        "outputId": "22ad1d7b-8158-47da-a5cc-57210695ac62"
      },
      "execution_count": 36,
      "outputs": [
        {
          "output_type": "stream",
          "name": "stdout",
          "text": [
            "Drive already mounted at /content/drive; to attempt to forcibly remount, call drive.mount(\"/content/drive\", force_remount=True).\n"
          ]
        }
      ]
    },
    {
      "cell_type": "code",
      "source": [
        "Input = pd.read_excel('/content/drive/MyDrive/Colab Notebooks/Input.xlsx')\n",
        "Input.head()"
      ],
      "metadata": {
        "colab": {
          "base_uri": "https://localhost:8080/",
          "height": 206
        },
        "id": "-ihvtQ9O6JHh",
        "outputId": "86078f5f-f0f9-4f7c-fd52-4b44e4c8b955"
      },
      "execution_count": 37,
      "outputs": [
        {
          "output_type": "execute_result",
          "data": {
            "text/plain": [
              "            URL_ID                                                URL\n",
              "0  blackassign0001  https://insights.blackcoffer.com/rising-it-cit...\n",
              "1  blackassign0002  https://insights.blackcoffer.com/rising-it-cit...\n",
              "2  blackassign0003  https://insights.blackcoffer.com/internet-dema...\n",
              "3  blackassign0004  https://insights.blackcoffer.com/rise-of-cyber...\n",
              "4  blackassign0005  https://insights.blackcoffer.com/ott-platform-..."
            ],
            "text/html": [
              "\n",
              "  <div id=\"df-6e3dc3d1-12ca-4641-89d5-bd3b4fe9d8fe\" class=\"colab-df-container\">\n",
              "    <div>\n",
              "<style scoped>\n",
              "    .dataframe tbody tr th:only-of-type {\n",
              "        vertical-align: middle;\n",
              "    }\n",
              "\n",
              "    .dataframe tbody tr th {\n",
              "        vertical-align: top;\n",
              "    }\n",
              "\n",
              "    .dataframe thead th {\n",
              "        text-align: right;\n",
              "    }\n",
              "</style>\n",
              "<table border=\"1\" class=\"dataframe\">\n",
              "  <thead>\n",
              "    <tr style=\"text-align: right;\">\n",
              "      <th></th>\n",
              "      <th>URL_ID</th>\n",
              "      <th>URL</th>\n",
              "    </tr>\n",
              "  </thead>\n",
              "  <tbody>\n",
              "    <tr>\n",
              "      <th>0</th>\n",
              "      <td>blackassign0001</td>\n",
              "      <td>https://insights.blackcoffer.com/rising-it-cit...</td>\n",
              "    </tr>\n",
              "    <tr>\n",
              "      <th>1</th>\n",
              "      <td>blackassign0002</td>\n",
              "      <td>https://insights.blackcoffer.com/rising-it-cit...</td>\n",
              "    </tr>\n",
              "    <tr>\n",
              "      <th>2</th>\n",
              "      <td>blackassign0003</td>\n",
              "      <td>https://insights.blackcoffer.com/internet-dema...</td>\n",
              "    </tr>\n",
              "    <tr>\n",
              "      <th>3</th>\n",
              "      <td>blackassign0004</td>\n",
              "      <td>https://insights.blackcoffer.com/rise-of-cyber...</td>\n",
              "    </tr>\n",
              "    <tr>\n",
              "      <th>4</th>\n",
              "      <td>blackassign0005</td>\n",
              "      <td>https://insights.blackcoffer.com/ott-platform-...</td>\n",
              "    </tr>\n",
              "  </tbody>\n",
              "</table>\n",
              "</div>\n",
              "    <div class=\"colab-df-buttons\">\n",
              "\n",
              "  <div class=\"colab-df-container\">\n",
              "    <button class=\"colab-df-convert\" onclick=\"convertToInteractive('df-6e3dc3d1-12ca-4641-89d5-bd3b4fe9d8fe')\"\n",
              "            title=\"Convert this dataframe to an interactive table.\"\n",
              "            style=\"display:none;\">\n",
              "\n",
              "  <svg xmlns=\"http://www.w3.org/2000/svg\" height=\"24px\" viewBox=\"0 -960 960 960\">\n",
              "    <path d=\"M120-120v-720h720v720H120Zm60-500h600v-160H180v160Zm220 220h160v-160H400v160Zm0 220h160v-160H400v160ZM180-400h160v-160H180v160Zm440 0h160v-160H620v160ZM180-180h160v-160H180v160Zm440 0h160v-160H620v160Z\"/>\n",
              "  </svg>\n",
              "    </button>\n",
              "\n",
              "  <style>\n",
              "    .colab-df-container {\n",
              "      display:flex;\n",
              "      gap: 12px;\n",
              "    }\n",
              "\n",
              "    .colab-df-convert {\n",
              "      background-color: #E8F0FE;\n",
              "      border: none;\n",
              "      border-radius: 50%;\n",
              "      cursor: pointer;\n",
              "      display: none;\n",
              "      fill: #1967D2;\n",
              "      height: 32px;\n",
              "      padding: 0 0 0 0;\n",
              "      width: 32px;\n",
              "    }\n",
              "\n",
              "    .colab-df-convert:hover {\n",
              "      background-color: #E2EBFA;\n",
              "      box-shadow: 0px 1px 2px rgba(60, 64, 67, 0.3), 0px 1px 3px 1px rgba(60, 64, 67, 0.15);\n",
              "      fill: #174EA6;\n",
              "    }\n",
              "\n",
              "    .colab-df-buttons div {\n",
              "      margin-bottom: 4px;\n",
              "    }\n",
              "\n",
              "    [theme=dark] .colab-df-convert {\n",
              "      background-color: #3B4455;\n",
              "      fill: #D2E3FC;\n",
              "    }\n",
              "\n",
              "    [theme=dark] .colab-df-convert:hover {\n",
              "      background-color: #434B5C;\n",
              "      box-shadow: 0px 1px 3px 1px rgba(0, 0, 0, 0.15);\n",
              "      filter: drop-shadow(0px 1px 2px rgba(0, 0, 0, 0.3));\n",
              "      fill: #FFFFFF;\n",
              "    }\n",
              "  </style>\n",
              "\n",
              "    <script>\n",
              "      const buttonEl =\n",
              "        document.querySelector('#df-6e3dc3d1-12ca-4641-89d5-bd3b4fe9d8fe button.colab-df-convert');\n",
              "      buttonEl.style.display =\n",
              "        google.colab.kernel.accessAllowed ? 'block' : 'none';\n",
              "\n",
              "      async function convertToInteractive(key) {\n",
              "        const element = document.querySelector('#df-6e3dc3d1-12ca-4641-89d5-bd3b4fe9d8fe');\n",
              "        const dataTable =\n",
              "          await google.colab.kernel.invokeFunction('convertToInteractive',\n",
              "                                                    [key], {});\n",
              "        if (!dataTable) return;\n",
              "\n",
              "        const docLinkHtml = 'Like what you see? Visit the ' +\n",
              "          '<a target=\"_blank\" href=https://colab.research.google.com/notebooks/data_table.ipynb>data table notebook</a>'\n",
              "          + ' to learn more about interactive tables.';\n",
              "        element.innerHTML = '';\n",
              "        dataTable['output_type'] = 'display_data';\n",
              "        await google.colab.output.renderOutput(dataTable, element);\n",
              "        const docLink = document.createElement('div');\n",
              "        docLink.innerHTML = docLinkHtml;\n",
              "        element.appendChild(docLink);\n",
              "      }\n",
              "    </script>\n",
              "  </div>\n",
              "\n",
              "\n",
              "<div id=\"df-92022a04-c06d-4524-8bcf-d4e3e6d6fc5a\">\n",
              "  <button class=\"colab-df-quickchart\" onclick=\"quickchart('df-92022a04-c06d-4524-8bcf-d4e3e6d6fc5a')\"\n",
              "            title=\"Suggest charts\"\n",
              "            style=\"display:none;\">\n",
              "\n",
              "<svg xmlns=\"http://www.w3.org/2000/svg\" height=\"24px\"viewBox=\"0 0 24 24\"\n",
              "     width=\"24px\">\n",
              "    <g>\n",
              "        <path d=\"M19 3H5c-1.1 0-2 .9-2 2v14c0 1.1.9 2 2 2h14c1.1 0 2-.9 2-2V5c0-1.1-.9-2-2-2zM9 17H7v-7h2v7zm4 0h-2V7h2v10zm4 0h-2v-4h2v4z\"/>\n",
              "    </g>\n",
              "</svg>\n",
              "  </button>\n",
              "\n",
              "<style>\n",
              "  .colab-df-quickchart {\n",
              "      --bg-color: #E8F0FE;\n",
              "      --fill-color: #1967D2;\n",
              "      --hover-bg-color: #E2EBFA;\n",
              "      --hover-fill-color: #174EA6;\n",
              "      --disabled-fill-color: #AAA;\n",
              "      --disabled-bg-color: #DDD;\n",
              "  }\n",
              "\n",
              "  [theme=dark] .colab-df-quickchart {\n",
              "      --bg-color: #3B4455;\n",
              "      --fill-color: #D2E3FC;\n",
              "      --hover-bg-color: #434B5C;\n",
              "      --hover-fill-color: #FFFFFF;\n",
              "      --disabled-bg-color: #3B4455;\n",
              "      --disabled-fill-color: #666;\n",
              "  }\n",
              "\n",
              "  .colab-df-quickchart {\n",
              "    background-color: var(--bg-color);\n",
              "    border: none;\n",
              "    border-radius: 50%;\n",
              "    cursor: pointer;\n",
              "    display: none;\n",
              "    fill: var(--fill-color);\n",
              "    height: 32px;\n",
              "    padding: 0;\n",
              "    width: 32px;\n",
              "  }\n",
              "\n",
              "  .colab-df-quickchart:hover {\n",
              "    background-color: var(--hover-bg-color);\n",
              "    box-shadow: 0 1px 2px rgba(60, 64, 67, 0.3), 0 1px 3px 1px rgba(60, 64, 67, 0.15);\n",
              "    fill: var(--button-hover-fill-color);\n",
              "  }\n",
              "\n",
              "  .colab-df-quickchart-complete:disabled,\n",
              "  .colab-df-quickchart-complete:disabled:hover {\n",
              "    background-color: var(--disabled-bg-color);\n",
              "    fill: var(--disabled-fill-color);\n",
              "    box-shadow: none;\n",
              "  }\n",
              "\n",
              "  .colab-df-spinner {\n",
              "    border: 2px solid var(--fill-color);\n",
              "    border-color: transparent;\n",
              "    border-bottom-color: var(--fill-color);\n",
              "    animation:\n",
              "      spin 1s steps(1) infinite;\n",
              "  }\n",
              "\n",
              "  @keyframes spin {\n",
              "    0% {\n",
              "      border-color: transparent;\n",
              "      border-bottom-color: var(--fill-color);\n",
              "      border-left-color: var(--fill-color);\n",
              "    }\n",
              "    20% {\n",
              "      border-color: transparent;\n",
              "      border-left-color: var(--fill-color);\n",
              "      border-top-color: var(--fill-color);\n",
              "    }\n",
              "    30% {\n",
              "      border-color: transparent;\n",
              "      border-left-color: var(--fill-color);\n",
              "      border-top-color: var(--fill-color);\n",
              "      border-right-color: var(--fill-color);\n",
              "    }\n",
              "    40% {\n",
              "      border-color: transparent;\n",
              "      border-right-color: var(--fill-color);\n",
              "      border-top-color: var(--fill-color);\n",
              "    }\n",
              "    60% {\n",
              "      border-color: transparent;\n",
              "      border-right-color: var(--fill-color);\n",
              "    }\n",
              "    80% {\n",
              "      border-color: transparent;\n",
              "      border-right-color: var(--fill-color);\n",
              "      border-bottom-color: var(--fill-color);\n",
              "    }\n",
              "    90% {\n",
              "      border-color: transparent;\n",
              "      border-bottom-color: var(--fill-color);\n",
              "    }\n",
              "  }\n",
              "</style>\n",
              "\n",
              "  <script>\n",
              "    async function quickchart(key) {\n",
              "      const quickchartButtonEl =\n",
              "        document.querySelector('#' + key + ' button');\n",
              "      quickchartButtonEl.disabled = true;  // To prevent multiple clicks.\n",
              "      quickchartButtonEl.classList.add('colab-df-spinner');\n",
              "      try {\n",
              "        const charts = await google.colab.kernel.invokeFunction(\n",
              "            'suggestCharts', [key], {});\n",
              "      } catch (error) {\n",
              "        console.error('Error during call to suggestCharts:', error);\n",
              "      }\n",
              "      quickchartButtonEl.classList.remove('colab-df-spinner');\n",
              "      quickchartButtonEl.classList.add('colab-df-quickchart-complete');\n",
              "    }\n",
              "    (() => {\n",
              "      let quickchartButtonEl =\n",
              "        document.querySelector('#df-92022a04-c06d-4524-8bcf-d4e3e6d6fc5a button');\n",
              "      quickchartButtonEl.style.display =\n",
              "        google.colab.kernel.accessAllowed ? 'block' : 'none';\n",
              "    })();\n",
              "  </script>\n",
              "</div>\n",
              "\n",
              "    </div>\n",
              "  </div>\n"
            ],
            "application/vnd.google.colaboratory.intrinsic+json": {
              "type": "dataframe",
              "variable_name": "Input",
              "summary": "{\n  \"name\": \"Input\",\n  \"rows\": 100,\n  \"fields\": [\n    {\n      \"column\": \"URL_ID\",\n      \"properties\": {\n        \"dtype\": \"string\",\n        \"num_unique_values\": 100,\n        \"samples\": [\n          \"blackassign0084\",\n          \"blackassign0054\",\n          \"blackassign0071\"\n        ],\n        \"semantic_type\": \"\",\n        \"description\": \"\"\n      }\n    },\n    {\n      \"column\": \"URL\",\n      \"properties\": {\n        \"dtype\": \"string\",\n        \"num_unique_values\": 100,\n        \"samples\": [\n          \"https://insights.blackcoffer.com/how-voice-search-makes-your-business-a-successful-business/\",\n          \"https://insights.blackcoffer.com/how-google-fit-measure-heart-and-respiratory-rates-using-a-phone/\",\n          \"https://insights.blackcoffer.com/how-to-overcome-your-fear-of-making-mistakes-2/\"\n        ],\n        \"semantic_type\": \"\",\n        \"description\": \"\"\n      }\n    }\n  ]\n}"
            }
          },
          "metadata": {},
          "execution_count": 37
        }
      ]
    },
    {
      "cell_type": "code",
      "source": [
        "# prompt: Using dataframe Input: print URL\n",
        "\n",
        "website = Input['URL']\n",
        "print(website)"
      ],
      "metadata": {
        "colab": {
          "base_uri": "https://localhost:8080/"
        },
        "id": "n7f5zw_Z8nbG",
        "outputId": "ede9545b-3565-4372-e078-731b22635815"
      },
      "execution_count": 38,
      "outputs": [
        {
          "output_type": "stream",
          "name": "stdout",
          "text": [
            "0     https://insights.blackcoffer.com/rising-it-cit...\n",
            "1     https://insights.blackcoffer.com/rising-it-cit...\n",
            "2     https://insights.blackcoffer.com/internet-dema...\n",
            "3     https://insights.blackcoffer.com/rise-of-cyber...\n",
            "4     https://insights.blackcoffer.com/ott-platform-...\n",
            "                            ...                        \n",
            "95    https://insights.blackcoffer.com/what-is-the-r...\n",
            "96    https://insights.blackcoffer.com/impact-of-cov...\n",
            "97    https://insights.blackcoffer.com/contribution-...\n",
            "98    https://insights.blackcoffer.com/how-covid-19-...\n",
            "99    https://insights.blackcoffer.com/how-will-covi...\n",
            "Name: URL, Length: 100, dtype: object\n"
          ]
        }
      ]
    },
    {
      "cell_type": "code",
      "source": [
        "website.count()"
      ],
      "metadata": {
        "colab": {
          "base_uri": "https://localhost:8080/"
        },
        "id": "pQ7MwxJ1Cq82",
        "outputId": "d9aae33d-07da-42e2-f958-65fb099c561a"
      },
      "execution_count": 39,
      "outputs": [
        {
          "output_type": "execute_result",
          "data": {
            "text/plain": [
              "100"
            ]
          },
          "metadata": {},
          "execution_count": 39
        }
      ]
    },
    {
      "cell_type": "code",
      "source": [
        "Input.tail()"
      ],
      "metadata": {
        "colab": {
          "base_uri": "https://localhost:8080/",
          "height": 206
        },
        "id": "SopqwtCq6I0D",
        "outputId": "defd7a00-5094-457f-b70e-b8e0bf21a3b4"
      },
      "execution_count": 40,
      "outputs": [
        {
          "output_type": "execute_result",
          "data": {
            "text/plain": [
              "             URL_ID                                                URL\n",
              "95  blackassign0096  https://insights.blackcoffer.com/what-is-the-r...\n",
              "96  blackassign0097  https://insights.blackcoffer.com/impact-of-cov...\n",
              "97  blackassign0098  https://insights.blackcoffer.com/contribution-...\n",
              "98  blackassign0099  https://insights.blackcoffer.com/how-covid-19-...\n",
              "99  blackassign0100  https://insights.blackcoffer.com/how-will-covi..."
            ],
            "text/html": [
              "\n",
              "  <div id=\"df-7bf3c03b-acd4-4af4-ac27-392ead4c4dbf\" class=\"colab-df-container\">\n",
              "    <div>\n",
              "<style scoped>\n",
              "    .dataframe tbody tr th:only-of-type {\n",
              "        vertical-align: middle;\n",
              "    }\n",
              "\n",
              "    .dataframe tbody tr th {\n",
              "        vertical-align: top;\n",
              "    }\n",
              "\n",
              "    .dataframe thead th {\n",
              "        text-align: right;\n",
              "    }\n",
              "</style>\n",
              "<table border=\"1\" class=\"dataframe\">\n",
              "  <thead>\n",
              "    <tr style=\"text-align: right;\">\n",
              "      <th></th>\n",
              "      <th>URL_ID</th>\n",
              "      <th>URL</th>\n",
              "    </tr>\n",
              "  </thead>\n",
              "  <tbody>\n",
              "    <tr>\n",
              "      <th>95</th>\n",
              "      <td>blackassign0096</td>\n",
              "      <td>https://insights.blackcoffer.com/what-is-the-r...</td>\n",
              "    </tr>\n",
              "    <tr>\n",
              "      <th>96</th>\n",
              "      <td>blackassign0097</td>\n",
              "      <td>https://insights.blackcoffer.com/impact-of-cov...</td>\n",
              "    </tr>\n",
              "    <tr>\n",
              "      <th>97</th>\n",
              "      <td>blackassign0098</td>\n",
              "      <td>https://insights.blackcoffer.com/contribution-...</td>\n",
              "    </tr>\n",
              "    <tr>\n",
              "      <th>98</th>\n",
              "      <td>blackassign0099</td>\n",
              "      <td>https://insights.blackcoffer.com/how-covid-19-...</td>\n",
              "    </tr>\n",
              "    <tr>\n",
              "      <th>99</th>\n",
              "      <td>blackassign0100</td>\n",
              "      <td>https://insights.blackcoffer.com/how-will-covi...</td>\n",
              "    </tr>\n",
              "  </tbody>\n",
              "</table>\n",
              "</div>\n",
              "    <div class=\"colab-df-buttons\">\n",
              "\n",
              "  <div class=\"colab-df-container\">\n",
              "    <button class=\"colab-df-convert\" onclick=\"convertToInteractive('df-7bf3c03b-acd4-4af4-ac27-392ead4c4dbf')\"\n",
              "            title=\"Convert this dataframe to an interactive table.\"\n",
              "            style=\"display:none;\">\n",
              "\n",
              "  <svg xmlns=\"http://www.w3.org/2000/svg\" height=\"24px\" viewBox=\"0 -960 960 960\">\n",
              "    <path d=\"M120-120v-720h720v720H120Zm60-500h600v-160H180v160Zm220 220h160v-160H400v160Zm0 220h160v-160H400v160ZM180-400h160v-160H180v160Zm440 0h160v-160H620v160ZM180-180h160v-160H180v160Zm440 0h160v-160H620v160Z\"/>\n",
              "  </svg>\n",
              "    </button>\n",
              "\n",
              "  <style>\n",
              "    .colab-df-container {\n",
              "      display:flex;\n",
              "      gap: 12px;\n",
              "    }\n",
              "\n",
              "    .colab-df-convert {\n",
              "      background-color: #E8F0FE;\n",
              "      border: none;\n",
              "      border-radius: 50%;\n",
              "      cursor: pointer;\n",
              "      display: none;\n",
              "      fill: #1967D2;\n",
              "      height: 32px;\n",
              "      padding: 0 0 0 0;\n",
              "      width: 32px;\n",
              "    }\n",
              "\n",
              "    .colab-df-convert:hover {\n",
              "      background-color: #E2EBFA;\n",
              "      box-shadow: 0px 1px 2px rgba(60, 64, 67, 0.3), 0px 1px 3px 1px rgba(60, 64, 67, 0.15);\n",
              "      fill: #174EA6;\n",
              "    }\n",
              "\n",
              "    .colab-df-buttons div {\n",
              "      margin-bottom: 4px;\n",
              "    }\n",
              "\n",
              "    [theme=dark] .colab-df-convert {\n",
              "      background-color: #3B4455;\n",
              "      fill: #D2E3FC;\n",
              "    }\n",
              "\n",
              "    [theme=dark] .colab-df-convert:hover {\n",
              "      background-color: #434B5C;\n",
              "      box-shadow: 0px 1px 3px 1px rgba(0, 0, 0, 0.15);\n",
              "      filter: drop-shadow(0px 1px 2px rgba(0, 0, 0, 0.3));\n",
              "      fill: #FFFFFF;\n",
              "    }\n",
              "  </style>\n",
              "\n",
              "    <script>\n",
              "      const buttonEl =\n",
              "        document.querySelector('#df-7bf3c03b-acd4-4af4-ac27-392ead4c4dbf button.colab-df-convert');\n",
              "      buttonEl.style.display =\n",
              "        google.colab.kernel.accessAllowed ? 'block' : 'none';\n",
              "\n",
              "      async function convertToInteractive(key) {\n",
              "        const element = document.querySelector('#df-7bf3c03b-acd4-4af4-ac27-392ead4c4dbf');\n",
              "        const dataTable =\n",
              "          await google.colab.kernel.invokeFunction('convertToInteractive',\n",
              "                                                    [key], {});\n",
              "        if (!dataTable) return;\n",
              "\n",
              "        const docLinkHtml = 'Like what you see? Visit the ' +\n",
              "          '<a target=\"_blank\" href=https://colab.research.google.com/notebooks/data_table.ipynb>data table notebook</a>'\n",
              "          + ' to learn more about interactive tables.';\n",
              "        element.innerHTML = '';\n",
              "        dataTable['output_type'] = 'display_data';\n",
              "        await google.colab.output.renderOutput(dataTable, element);\n",
              "        const docLink = document.createElement('div');\n",
              "        docLink.innerHTML = docLinkHtml;\n",
              "        element.appendChild(docLink);\n",
              "      }\n",
              "    </script>\n",
              "  </div>\n",
              "\n",
              "\n",
              "<div id=\"df-5379741d-f8b7-4bc7-b452-c2ca9d6a9b06\">\n",
              "  <button class=\"colab-df-quickchart\" onclick=\"quickchart('df-5379741d-f8b7-4bc7-b452-c2ca9d6a9b06')\"\n",
              "            title=\"Suggest charts\"\n",
              "            style=\"display:none;\">\n",
              "\n",
              "<svg xmlns=\"http://www.w3.org/2000/svg\" height=\"24px\"viewBox=\"0 0 24 24\"\n",
              "     width=\"24px\">\n",
              "    <g>\n",
              "        <path d=\"M19 3H5c-1.1 0-2 .9-2 2v14c0 1.1.9 2 2 2h14c1.1 0 2-.9 2-2V5c0-1.1-.9-2-2-2zM9 17H7v-7h2v7zm4 0h-2V7h2v10zm4 0h-2v-4h2v4z\"/>\n",
              "    </g>\n",
              "</svg>\n",
              "  </button>\n",
              "\n",
              "<style>\n",
              "  .colab-df-quickchart {\n",
              "      --bg-color: #E8F0FE;\n",
              "      --fill-color: #1967D2;\n",
              "      --hover-bg-color: #E2EBFA;\n",
              "      --hover-fill-color: #174EA6;\n",
              "      --disabled-fill-color: #AAA;\n",
              "      --disabled-bg-color: #DDD;\n",
              "  }\n",
              "\n",
              "  [theme=dark] .colab-df-quickchart {\n",
              "      --bg-color: #3B4455;\n",
              "      --fill-color: #D2E3FC;\n",
              "      --hover-bg-color: #434B5C;\n",
              "      --hover-fill-color: #FFFFFF;\n",
              "      --disabled-bg-color: #3B4455;\n",
              "      --disabled-fill-color: #666;\n",
              "  }\n",
              "\n",
              "  .colab-df-quickchart {\n",
              "    background-color: var(--bg-color);\n",
              "    border: none;\n",
              "    border-radius: 50%;\n",
              "    cursor: pointer;\n",
              "    display: none;\n",
              "    fill: var(--fill-color);\n",
              "    height: 32px;\n",
              "    padding: 0;\n",
              "    width: 32px;\n",
              "  }\n",
              "\n",
              "  .colab-df-quickchart:hover {\n",
              "    background-color: var(--hover-bg-color);\n",
              "    box-shadow: 0 1px 2px rgba(60, 64, 67, 0.3), 0 1px 3px 1px rgba(60, 64, 67, 0.15);\n",
              "    fill: var(--button-hover-fill-color);\n",
              "  }\n",
              "\n",
              "  .colab-df-quickchart-complete:disabled,\n",
              "  .colab-df-quickchart-complete:disabled:hover {\n",
              "    background-color: var(--disabled-bg-color);\n",
              "    fill: var(--disabled-fill-color);\n",
              "    box-shadow: none;\n",
              "  }\n",
              "\n",
              "  .colab-df-spinner {\n",
              "    border: 2px solid var(--fill-color);\n",
              "    border-color: transparent;\n",
              "    border-bottom-color: var(--fill-color);\n",
              "    animation:\n",
              "      spin 1s steps(1) infinite;\n",
              "  }\n",
              "\n",
              "  @keyframes spin {\n",
              "    0% {\n",
              "      border-color: transparent;\n",
              "      border-bottom-color: var(--fill-color);\n",
              "      border-left-color: var(--fill-color);\n",
              "    }\n",
              "    20% {\n",
              "      border-color: transparent;\n",
              "      border-left-color: var(--fill-color);\n",
              "      border-top-color: var(--fill-color);\n",
              "    }\n",
              "    30% {\n",
              "      border-color: transparent;\n",
              "      border-left-color: var(--fill-color);\n",
              "      border-top-color: var(--fill-color);\n",
              "      border-right-color: var(--fill-color);\n",
              "    }\n",
              "    40% {\n",
              "      border-color: transparent;\n",
              "      border-right-color: var(--fill-color);\n",
              "      border-top-color: var(--fill-color);\n",
              "    }\n",
              "    60% {\n",
              "      border-color: transparent;\n",
              "      border-right-color: var(--fill-color);\n",
              "    }\n",
              "    80% {\n",
              "      border-color: transparent;\n",
              "      border-right-color: var(--fill-color);\n",
              "      border-bottom-color: var(--fill-color);\n",
              "    }\n",
              "    90% {\n",
              "      border-color: transparent;\n",
              "      border-bottom-color: var(--fill-color);\n",
              "    }\n",
              "  }\n",
              "</style>\n",
              "\n",
              "  <script>\n",
              "    async function quickchart(key) {\n",
              "      const quickchartButtonEl =\n",
              "        document.querySelector('#' + key + ' button');\n",
              "      quickchartButtonEl.disabled = true;  // To prevent multiple clicks.\n",
              "      quickchartButtonEl.classList.add('colab-df-spinner');\n",
              "      try {\n",
              "        const charts = await google.colab.kernel.invokeFunction(\n",
              "            'suggestCharts', [key], {});\n",
              "      } catch (error) {\n",
              "        console.error('Error during call to suggestCharts:', error);\n",
              "      }\n",
              "      quickchartButtonEl.classList.remove('colab-df-spinner');\n",
              "      quickchartButtonEl.classList.add('colab-df-quickchart-complete');\n",
              "    }\n",
              "    (() => {\n",
              "      let quickchartButtonEl =\n",
              "        document.querySelector('#df-5379741d-f8b7-4bc7-b452-c2ca9d6a9b06 button');\n",
              "      quickchartButtonEl.style.display =\n",
              "        google.colab.kernel.accessAllowed ? 'block' : 'none';\n",
              "    })();\n",
              "  </script>\n",
              "</div>\n",
              "\n",
              "    </div>\n",
              "  </div>\n"
            ],
            "application/vnd.google.colaboratory.intrinsic+json": {
              "type": "dataframe",
              "summary": "{\n  \"name\": \"Input\",\n  \"rows\": 5,\n  \"fields\": [\n    {\n      \"column\": \"URL_ID\",\n      \"properties\": {\n        \"dtype\": \"string\",\n        \"num_unique_values\": 5,\n        \"samples\": [\n          \"blackassign0097\",\n          \"blackassign0100\",\n          \"blackassign0098\"\n        ],\n        \"semantic_type\": \"\",\n        \"description\": \"\"\n      }\n    },\n    {\n      \"column\": \"URL\",\n      \"properties\": {\n        \"dtype\": \"string\",\n        \"num_unique_values\": 5,\n        \"samples\": [\n          \"https://insights.blackcoffer.com/impact-of-covid-19-pandemic-on-office-space-and-co-working-industries/\",\n          \"https://insights.blackcoffer.com/how-will-covid-19-affect-the-world-of-work-2/\",\n          \"https://insights.blackcoffer.com/contribution-of-handicrafts-visual-arts-literature-in-the-indian-economy/\"\n        ],\n        \"semantic_type\": \"\",\n        \"description\": \"\"\n      }\n    }\n  ]\n}"
            }
          },
          "metadata": {},
          "execution_count": 40
        }
      ]
    },
    {
      "cell_type": "code",
      "source": [
        "import requests\n",
        "from bs4 import BeautifulSoup\n",
        "\n",
        "titles = []\n",
        "urls_1 = []\n",
        "\n",
        "# List of URLs\n",
        "urls = website\n",
        "\n",
        "# Loop through each URL\n",
        "for url in urls:\n",
        "    try:\n",
        "        # Making requests instance\n",
        "        reqs = requests.get(url)\n",
        "        reqs.raise_for_status()  # Raise an exception for 4xx or 5xx status codes\n",
        "\n",
        "        # Using the BeautifulSoup module\n",
        "        soup = BeautifulSoup(reqs.text, 'html.parser')\n",
        "\n",
        "        # Displaying the title\n",
        "        for title in soup.find_all('h1'):\n",
        "            title_1 = title.get_text()\n",
        "\n",
        "            # Append URL and title to respective lists\n",
        "            titles.append(title_1)\n",
        "            urls_1.append(url)\n",
        "    except Exception as e:\n",
        "        print(f\"Error processing URL {url}: {e}\")\n",
        "\n"
      ],
      "metadata": {
        "id": "ROmQlWzLqHCk",
        "colab": {
          "base_uri": "https://localhost:8080/"
        },
        "outputId": "1cdb3438-a5ae-4c39-b106-449e612fd5a2"
      },
      "execution_count": null,
      "outputs": [
        {
          "output_type": "stream",
          "name": "stdout",
          "text": [
            "Error processing URL https://insights.blackcoffer.com/how-neural-networks-can-be-applied-in-various-areas-in-the-future/: 404 Client Error: Not Found for url: https://insights.blackcoffer.com/how-neural-networks-can-be-applied-in-various-areas-in-the-future/\n",
            "Error processing URL https://insights.blackcoffer.com/covid-19-environmental-impact-for-the-future/: 404 Client Error: Not Found for url: https://insights.blackcoffer.com/covid-19-environmental-impact-for-the-future/\n"
          ]
        }
      ]
    },
    {
      "cell_type": "markdown",
      "source": [
        "Error processing URL https://insights.blackcoffer.com/how-neural-networks-can-be-applied-in-various-areas-in-the-future/: 404 Client Error: Not Found for url: https://insights.blackcoffer.com/how-neural-networks-can-be-applied-in-various-areas-in-the-future/\n",
        "Error processing URL https://insights.blackcoffer.com/covid-19-environmental-impact-for-the-future/: 404 Client Error: Not Found for url: https://insights.blackcoffer.com/covid-19-environmental-impact-for-the-future/"
      ],
      "metadata": {
        "id": "wfF45mIoUP-x"
      }
    },
    {
      "cell_type": "code",
      "source": [
        "#print(soup.prettify())"
      ],
      "metadata": {
        "id": "-kGMVoVau3wI"
      },
      "execution_count": null,
      "outputs": []
    },
    {
      "cell_type": "code",
      "source": [
        "# Create a DataFrame with URLs and corresponding titles\n",
        "output_df = pd.DataFrame({'URL': urls_1, 'Title': titles})"
      ],
      "metadata": {
        "id": "QEoTo1oqQwIm"
      },
      "execution_count": null,
      "outputs": []
    },
    {
      "cell_type": "code",
      "source": [
        "# Merge the two tables based on the 'URL' column\n",
        "merged_df = pd.merge(Input, output_df, on='URL', how='inner')"
      ],
      "metadata": {
        "id": "6MErQ1pFR2BN"
      },
      "execution_count": null,
      "outputs": []
    },
    {
      "cell_type": "code",
      "source": [
        "print(merged_df)"
      ],
      "metadata": {
        "id": "SCCBwq8tSRA2"
      },
      "execution_count": null,
      "outputs": []
    },
    {
      "cell_type": "code",
      "source": [
        "# Save the DataFrame to an Excel file\n",
        "merged_df.to_excel('output.xlsx', index=False)"
      ],
      "metadata": {
        "id": "HWiOAUL0QyK1"
      },
      "execution_count": null,
      "outputs": []
    },
    {
      "cell_type": "code",
      "source": [
        "print(merged_df)"
      ],
      "metadata": {
        "id": "JrG9yUy6qHAj",
        "colab": {
          "base_uri": "https://localhost:8080/"
        },
        "outputId": "86a02ad9-60de-4929-cad0-ae950f324b7a"
      },
      "execution_count": 47,
      "outputs": [
        {
          "metadata": {
            "tags": null
          },
          "name": "stdout",
          "output_type": "stream",
          "text": [
            "             URL_ID                                                URL  \\\n",
            "0   blackassign0001  https://insights.blackcoffer.com/rising-it-cit...   \n",
            "1   blackassign0002  https://insights.blackcoffer.com/rising-it-cit...   \n",
            "2   blackassign0003  https://insights.blackcoffer.com/internet-dema...   \n",
            "3   blackassign0004  https://insights.blackcoffer.com/rise-of-cyber...   \n",
            "4   blackassign0005  https://insights.blackcoffer.com/ott-platform-...   \n",
            "..              ...                                                ...   \n",
            "93  blackassign0096  https://insights.blackcoffer.com/what-is-the-r...   \n",
            "94  blackassign0097  https://insights.blackcoffer.com/impact-of-cov...   \n",
            "95  blackassign0098  https://insights.blackcoffer.com/contribution-...   \n",
            "96  blackassign0099  https://insights.blackcoffer.com/how-covid-19-...   \n",
            "97  blackassign0100  https://insights.blackcoffer.com/how-will-covi...   \n",
            "\n",
            "                                                Title  \n",
            "0   Rising IT cities and its impact on the economy...  \n",
            "1   Rising IT Cities and Their Impact on the Econo...  \n",
            "2   Internet Demand’s Evolution, Communication Imp...  \n",
            "3   Rise of Cybercrime and its Effect in upcoming ...  \n",
            "4   OTT platform and its impact on the entertainme...  \n",
            "..                                                ...  \n",
            "93  Due to the COVID-19 the repercussion of the en...  \n",
            "94  Impact of COVID-19 pandemic on office space an...  \n",
            "95  Contribution of handicrafts (Visual Arts & Lit...  \n",
            "96     How COVID-19 is impacting payment preferences?  \n",
            "97        How will COVID-19 affect the world of work?  \n",
            "\n",
            "[98 rows x 3 columns]\n"
          ]
        }
      ]
    },
    {
      "cell_type": "code",
      "source": [
        "output_df.count()"
      ],
      "metadata": {
        "id": "nPs2Q-vIqG-D",
        "colab": {
          "base_uri": "https://localhost:8080/",
          "height": 147
        },
        "outputId": "5305f16d-572a-485b-9947-2643bce87267"
      },
      "execution_count": 48,
      "outputs": [
        {
          "data": {
            "text/html": [
              "<div>\n",
              "<style scoped>\n",
              "    .dataframe tbody tr th:only-of-type {\n",
              "        vertical-align: middle;\n",
              "    }\n",
              "\n",
              "    .dataframe tbody tr th {\n",
              "        vertical-align: top;\n",
              "    }\n",
              "\n",
              "    .dataframe thead th {\n",
              "        text-align: right;\n",
              "    }\n",
              "</style>\n",
              "<table border=\"1\" class=\"dataframe\">\n",
              "  <thead>\n",
              "    <tr style=\"text-align: right;\">\n",
              "      <th></th>\n",
              "      <th>0</th>\n",
              "    </tr>\n",
              "  </thead>\n",
              "  <tbody>\n",
              "    <tr>\n",
              "      <th>URL</th>\n",
              "      <td>98</td>\n",
              "    </tr>\n",
              "    <tr>\n",
              "      <th>Title</th>\n",
              "      <td>98</td>\n",
              "    </tr>\n",
              "  </tbody>\n",
              "</table>\n",
              "</div><br><label><b>dtype:</b> int64</label>"
            ],
            "text/plain": [
              "URL      98\n",
              "Title    98\n",
              "dtype: int64"
            ]
          },
          "execution_count": 48,
          "metadata": {},
          "output_type": "execute_result"
        }
      ]
    },
    {
      "cell_type": "code",
      "source": [
        "merged_df.isnull().count()"
      ],
      "metadata": {
        "id": "Bb2GoGGZqG72",
        "colab": {
          "base_uri": "https://localhost:8080/",
          "height": 178
        },
        "outputId": "33a6f856-f20f-428f-8870-5f694d36d810"
      },
      "execution_count": 49,
      "outputs": [
        {
          "data": {
            "text/html": [
              "<div>\n",
              "<style scoped>\n",
              "    .dataframe tbody tr th:only-of-type {\n",
              "        vertical-align: middle;\n",
              "    }\n",
              "\n",
              "    .dataframe tbody tr th {\n",
              "        vertical-align: top;\n",
              "    }\n",
              "\n",
              "    .dataframe thead th {\n",
              "        text-align: right;\n",
              "    }\n",
              "</style>\n",
              "<table border=\"1\" class=\"dataframe\">\n",
              "  <thead>\n",
              "    <tr style=\"text-align: right;\">\n",
              "      <th></th>\n",
              "      <th>0</th>\n",
              "    </tr>\n",
              "  </thead>\n",
              "  <tbody>\n",
              "    <tr>\n",
              "      <th>URL_ID</th>\n",
              "      <td>98</td>\n",
              "    </tr>\n",
              "    <tr>\n",
              "      <th>URL</th>\n",
              "      <td>98</td>\n",
              "    </tr>\n",
              "    <tr>\n",
              "      <th>Title</th>\n",
              "      <td>98</td>\n",
              "    </tr>\n",
              "  </tbody>\n",
              "</table>\n",
              "</div><br><label><b>dtype:</b> int64</label>"
            ],
            "text/plain": [
              "URL_ID    98\n",
              "URL       98\n",
              "Title     98\n",
              "dtype: int64"
            ]
          },
          "execution_count": 49,
          "metadata": {},
          "output_type": "execute_result"
        }
      ]
    },
    {
      "cell_type": "markdown",
      "source": [
        "##3.\tData Analysis"
      ],
      "metadata": {
        "id": "ztA3uW0eU0AR"
      }
    },
    {
      "cell_type": "markdown",
      "source": [
        "For each of the extracted texts from the article, perform textual analysis and compute variables, given in the output structure excel file. You need to save the output in the exact order as given in the output structure file, “Output Data Structure.xlsx”<div>\n",
        "NOTE: YOU MUST USE PYTHON PROGRAMMING FOR THE DATA ANALYSIS\n"
      ],
      "metadata": {
        "id": "IRULK942VIsN"
      }
    },
    {
      "cell_type": "code",
      "source": [
        "#print(output_df)\n",
        "output_df_text_1 = output_df['Title']\n",
        "print(output_df_text_1)"
      ],
      "metadata": {
        "colab": {
          "base_uri": "https://localhost:8080/"
        },
        "id": "SW5cRBGJz9_A",
        "outputId": "ce832889-dcb9-4f1a-de02-008fb880ed75"
      },
      "execution_count": 50,
      "outputs": [
        {
          "metadata": {
            "tags": null
          },
          "name": "stdout",
          "output_type": "stream",
          "text": [
            "0     Rising IT cities and its impact on the economy...\n",
            "1     Rising IT Cities and Their Impact on the Econo...\n",
            "2     Internet Demand’s Evolution, Communication Imp...\n",
            "3     Rise of Cybercrime and its Effect in upcoming ...\n",
            "4     OTT platform and its impact on the entertainme...\n",
            "                            ...                        \n",
            "93    Due to the COVID-19 the repercussion of the en...\n",
            "94    Impact of COVID-19 pandemic on office space an...\n",
            "95    Contribution of handicrafts (Visual Arts & Lit...\n",
            "96       How COVID-19 is impacting payment preferences?\n",
            "97          How will COVID-19 affect the world of work?\n",
            "Name: Title, Length: 98, dtype: object\n"
          ]
        }
      ]
    },
    {
      "cell_type": "code",
      "source": [
        "# Load the extracted texts from the article\n",
        "extracted_texts = output_df['Title']\n",
        "\n",
        "\n",
        "# Initialize NLTK's sentiment intensity analyzer\n",
        "sia = SentimentIntensityAnalyzer()\n",
        "\n",
        "# Define stop words list\n",
        "stop_words = set(stopwords.words('english'))\n",
        "\n",
        "# Initialize lists to store derived variables\n",
        "positive_word_counts = []\n",
        "negative_word_counts = []\n",
        "sentiment_scores = []\n",
        "\n",
        "# Iterate through each extracted text\n",
        "for text in extracted_texts:\n",
        "    # Tokenize the text into words\n",
        "    words = word_tokenize(text.lower())  # Convert to lowercase\n",
        "\n",
        "    # Remove stop words\n",
        "    words = [word for word in words if word not in stop_words]\n",
        "\n",
        "    # Count positive and negative words\n",
        "    positive_count = sum(1 for word in words if sia.lexicon.get(word, 0) > 0)\n",
        "    negative_count = sum(1 for word in words if sia.lexicon.get(word, 0) < 0)\n",
        "\n",
        "    positive_word_counts.append(positive_count)\n",
        "    negative_word_counts.append(negative_count)\n",
        "\n",
        "    # Compute sentiment score\n",
        "    sentiment_scores.append(sia.polarity_scores(text)['compound'])\n",
        "\n",
        "# Create a DataFrame to store the computed variables\n",
        "output_df_text = pd.DataFrame({'Text': extracted_texts, 'Positive Word Count': positive_word_counts,'Negative Word Count': negative_word_counts, 'Sentiment Score': sentiment_scores})\n",
        "\n",
        "\n"
      ],
      "metadata": {
        "id": "3hH3bihZqG1J",
        "colab": {
          "base_uri": "https://localhost:8080/",
          "height": 720
        },
        "outputId": "93c8d8a9-7f8e-466e-cb2d-45a52cf60341"
      },
      "execution_count": 51,
      "outputs": [
        {
          "ename": "LookupError",
          "evalue": "\n**********************************************************************\n  Resource \u001b[93mpunkt_tab\u001b[0m not found.\n  Please use the NLTK Downloader to obtain the resource:\n\n  \u001b[31m>>> import nltk\n  >>> nltk.download('punkt_tab')\n  \u001b[0m\n  For more information see: https://www.nltk.org/data.html\n\n  Attempted to load \u001b[93mtokenizers/punkt_tab/english/\u001b[0m\n\n  Searched in:\n    - '/root/nltk_data'\n    - '/usr/nltk_data'\n    - '/usr/share/nltk_data'\n    - '/usr/lib/nltk_data'\n    - '/usr/share/nltk_data'\n    - '/usr/local/share/nltk_data'\n    - '/usr/lib/nltk_data'\n    - '/usr/local/lib/nltk_data'\n**********************************************************************\n",
          "output_type": "error",
          "traceback": [
            "\u001b[0;31m---------------------------------------------------------------------------\u001b[0m",
            "\u001b[0;31mLookupError\u001b[0m                               Traceback (most recent call last)",
            "\u001b[0;32m<ipython-input-51-9c5d9b7f0bc4>\u001b[0m in \u001b[0;36m<cell line: 17>\u001b[0;34m()\u001b[0m\n\u001b[1;32m     17\u001b[0m \u001b[0;32mfor\u001b[0m \u001b[0mtext\u001b[0m \u001b[0;32min\u001b[0m \u001b[0mextracted_texts\u001b[0m\u001b[0;34m:\u001b[0m\u001b[0;34m\u001b[0m\u001b[0;34m\u001b[0m\u001b[0m\n\u001b[1;32m     18\u001b[0m     \u001b[0;31m# Tokenize the text into words\u001b[0m\u001b[0;34m\u001b[0m\u001b[0;34m\u001b[0m\u001b[0m\n\u001b[0;32m---> 19\u001b[0;31m     \u001b[0mwords\u001b[0m \u001b[0;34m=\u001b[0m \u001b[0mword_tokenize\u001b[0m\u001b[0;34m(\u001b[0m\u001b[0mtext\u001b[0m\u001b[0;34m.\u001b[0m\u001b[0mlower\u001b[0m\u001b[0;34m(\u001b[0m\u001b[0;34m)\u001b[0m\u001b[0;34m)\u001b[0m  \u001b[0;31m# Convert to lowercase\u001b[0m\u001b[0;34m\u001b[0m\u001b[0;34m\u001b[0m\u001b[0m\n\u001b[0m\u001b[1;32m     20\u001b[0m \u001b[0;34m\u001b[0m\u001b[0m\n\u001b[1;32m     21\u001b[0m     \u001b[0;31m# Remove stop words\u001b[0m\u001b[0;34m\u001b[0m\u001b[0;34m\u001b[0m\u001b[0m\n",
            "\u001b[0;32m/usr/local/lib/python3.10/dist-packages/nltk/tokenize/__init__.py\u001b[0m in \u001b[0;36mword_tokenize\u001b[0;34m(text, language, preserve_line)\u001b[0m\n\u001b[1;32m    140\u001b[0m     \u001b[0;34m:\u001b[0m\u001b[0mtype\u001b[0m \u001b[0mpreserve_line\u001b[0m\u001b[0;34m:\u001b[0m \u001b[0mbool\u001b[0m\u001b[0;34m\u001b[0m\u001b[0;34m\u001b[0m\u001b[0m\n\u001b[1;32m    141\u001b[0m     \"\"\"\n\u001b[0;32m--> 142\u001b[0;31m     \u001b[0msentences\u001b[0m \u001b[0;34m=\u001b[0m \u001b[0;34m[\u001b[0m\u001b[0mtext\u001b[0m\u001b[0;34m]\u001b[0m \u001b[0;32mif\u001b[0m \u001b[0mpreserve_line\u001b[0m \u001b[0;32melse\u001b[0m \u001b[0msent_tokenize\u001b[0m\u001b[0;34m(\u001b[0m\u001b[0mtext\u001b[0m\u001b[0;34m,\u001b[0m \u001b[0mlanguage\u001b[0m\u001b[0;34m)\u001b[0m\u001b[0;34m\u001b[0m\u001b[0;34m\u001b[0m\u001b[0m\n\u001b[0m\u001b[1;32m    143\u001b[0m     return [\n\u001b[1;32m    144\u001b[0m         \u001b[0mtoken\u001b[0m \u001b[0;32mfor\u001b[0m \u001b[0msent\u001b[0m \u001b[0;32min\u001b[0m \u001b[0msentences\u001b[0m \u001b[0;32mfor\u001b[0m \u001b[0mtoken\u001b[0m \u001b[0;32min\u001b[0m \u001b[0m_treebank_word_tokenizer\u001b[0m\u001b[0;34m.\u001b[0m\u001b[0mtokenize\u001b[0m\u001b[0;34m(\u001b[0m\u001b[0msent\u001b[0m\u001b[0;34m)\u001b[0m\u001b[0;34m\u001b[0m\u001b[0;34m\u001b[0m\u001b[0m\n",
            "\u001b[0;32m/usr/local/lib/python3.10/dist-packages/nltk/tokenize/__init__.py\u001b[0m in \u001b[0;36msent_tokenize\u001b[0;34m(text, language)\u001b[0m\n\u001b[1;32m    117\u001b[0m     \u001b[0;34m:\u001b[0m\u001b[0mparam\u001b[0m \u001b[0mlanguage\u001b[0m\u001b[0;34m:\u001b[0m \u001b[0mthe\u001b[0m \u001b[0mmodel\u001b[0m \u001b[0mname\u001b[0m \u001b[0;32min\u001b[0m \u001b[0mthe\u001b[0m \u001b[0mPunkt\u001b[0m \u001b[0mcorpus\u001b[0m\u001b[0;34m\u001b[0m\u001b[0;34m\u001b[0m\u001b[0m\n\u001b[1;32m    118\u001b[0m     \"\"\"\n\u001b[0;32m--> 119\u001b[0;31m     \u001b[0mtokenizer\u001b[0m \u001b[0;34m=\u001b[0m \u001b[0m_get_punkt_tokenizer\u001b[0m\u001b[0;34m(\u001b[0m\u001b[0mlanguage\u001b[0m\u001b[0;34m)\u001b[0m\u001b[0;34m\u001b[0m\u001b[0;34m\u001b[0m\u001b[0m\n\u001b[0m\u001b[1;32m    120\u001b[0m     \u001b[0;32mreturn\u001b[0m \u001b[0mtokenizer\u001b[0m\u001b[0;34m.\u001b[0m\u001b[0mtokenize\u001b[0m\u001b[0;34m(\u001b[0m\u001b[0mtext\u001b[0m\u001b[0;34m)\u001b[0m\u001b[0;34m\u001b[0m\u001b[0;34m\u001b[0m\u001b[0m\n\u001b[1;32m    121\u001b[0m \u001b[0;34m\u001b[0m\u001b[0m\n",
            "\u001b[0;32m/usr/local/lib/python3.10/dist-packages/nltk/tokenize/__init__.py\u001b[0m in \u001b[0;36m_get_punkt_tokenizer\u001b[0;34m(language)\u001b[0m\n\u001b[1;32m    103\u001b[0m     \u001b[0;34m:\u001b[0m\u001b[0mtype\u001b[0m \u001b[0mlanguage\u001b[0m\u001b[0;34m:\u001b[0m \u001b[0mstr\u001b[0m\u001b[0;34m\u001b[0m\u001b[0;34m\u001b[0m\u001b[0m\n\u001b[1;32m    104\u001b[0m     \"\"\"\n\u001b[0;32m--> 105\u001b[0;31m     \u001b[0;32mreturn\u001b[0m \u001b[0mPunktTokenizer\u001b[0m\u001b[0;34m(\u001b[0m\u001b[0mlanguage\u001b[0m\u001b[0;34m)\u001b[0m\u001b[0;34m\u001b[0m\u001b[0;34m\u001b[0m\u001b[0m\n\u001b[0m\u001b[1;32m    106\u001b[0m \u001b[0;34m\u001b[0m\u001b[0m\n\u001b[1;32m    107\u001b[0m \u001b[0;34m\u001b[0m\u001b[0m\n",
            "\u001b[0;32m/usr/local/lib/python3.10/dist-packages/nltk/tokenize/punkt.py\u001b[0m in \u001b[0;36m__init__\u001b[0;34m(self, lang)\u001b[0m\n\u001b[1;32m   1742\u001b[0m     \u001b[0;32mdef\u001b[0m \u001b[0m__init__\u001b[0m\u001b[0;34m(\u001b[0m\u001b[0mself\u001b[0m\u001b[0;34m,\u001b[0m \u001b[0mlang\u001b[0m\u001b[0;34m=\u001b[0m\u001b[0;34m\"english\"\u001b[0m\u001b[0;34m)\u001b[0m\u001b[0;34m:\u001b[0m\u001b[0;34m\u001b[0m\u001b[0;34m\u001b[0m\u001b[0m\n\u001b[1;32m   1743\u001b[0m         \u001b[0mPunktSentenceTokenizer\u001b[0m\u001b[0;34m.\u001b[0m\u001b[0m__init__\u001b[0m\u001b[0;34m(\u001b[0m\u001b[0mself\u001b[0m\u001b[0;34m)\u001b[0m\u001b[0;34m\u001b[0m\u001b[0;34m\u001b[0m\u001b[0m\n\u001b[0;32m-> 1744\u001b[0;31m         \u001b[0mself\u001b[0m\u001b[0;34m.\u001b[0m\u001b[0mload_lang\u001b[0m\u001b[0;34m(\u001b[0m\u001b[0mlang\u001b[0m\u001b[0;34m)\u001b[0m\u001b[0;34m\u001b[0m\u001b[0;34m\u001b[0m\u001b[0m\n\u001b[0m\u001b[1;32m   1745\u001b[0m \u001b[0;34m\u001b[0m\u001b[0m\n\u001b[1;32m   1746\u001b[0m     \u001b[0;32mdef\u001b[0m \u001b[0mload_lang\u001b[0m\u001b[0;34m(\u001b[0m\u001b[0mself\u001b[0m\u001b[0;34m,\u001b[0m \u001b[0mlang\u001b[0m\u001b[0;34m=\u001b[0m\u001b[0;34m\"english\"\u001b[0m\u001b[0;34m)\u001b[0m\u001b[0;34m:\u001b[0m\u001b[0;34m\u001b[0m\u001b[0;34m\u001b[0m\u001b[0m\n",
            "\u001b[0;32m/usr/local/lib/python3.10/dist-packages/nltk/tokenize/punkt.py\u001b[0m in \u001b[0;36mload_lang\u001b[0;34m(self, lang)\u001b[0m\n\u001b[1;32m   1747\u001b[0m         \u001b[0;32mfrom\u001b[0m \u001b[0mnltk\u001b[0m\u001b[0;34m.\u001b[0m\u001b[0mdata\u001b[0m \u001b[0;32mimport\u001b[0m \u001b[0mfind\u001b[0m\u001b[0;34m\u001b[0m\u001b[0;34m\u001b[0m\u001b[0m\n\u001b[1;32m   1748\u001b[0m \u001b[0;34m\u001b[0m\u001b[0m\n\u001b[0;32m-> 1749\u001b[0;31m         \u001b[0mlang_dir\u001b[0m \u001b[0;34m=\u001b[0m \u001b[0mfind\u001b[0m\u001b[0;34m(\u001b[0m\u001b[0;34mf\"tokenizers/punkt_tab/{lang}/\"\u001b[0m\u001b[0;34m)\u001b[0m\u001b[0;34m\u001b[0m\u001b[0;34m\u001b[0m\u001b[0m\n\u001b[0m\u001b[1;32m   1750\u001b[0m         \u001b[0mself\u001b[0m\u001b[0;34m.\u001b[0m\u001b[0m_params\u001b[0m \u001b[0;34m=\u001b[0m \u001b[0mload_punkt_params\u001b[0m\u001b[0;34m(\u001b[0m\u001b[0mlang_dir\u001b[0m\u001b[0;34m)\u001b[0m\u001b[0;34m\u001b[0m\u001b[0;34m\u001b[0m\u001b[0m\n\u001b[1;32m   1751\u001b[0m         \u001b[0mself\u001b[0m\u001b[0;34m.\u001b[0m\u001b[0m_lang\u001b[0m \u001b[0;34m=\u001b[0m \u001b[0mlang\u001b[0m\u001b[0;34m\u001b[0m\u001b[0;34m\u001b[0m\u001b[0m\n",
            "\u001b[0;32m/usr/local/lib/python3.10/dist-packages/nltk/data.py\u001b[0m in \u001b[0;36mfind\u001b[0;34m(resource_name, paths)\u001b[0m\n\u001b[1;32m    577\u001b[0m     \u001b[0msep\u001b[0m \u001b[0;34m=\u001b[0m \u001b[0;34m\"*\"\u001b[0m \u001b[0;34m*\u001b[0m \u001b[0;36m70\u001b[0m\u001b[0;34m\u001b[0m\u001b[0;34m\u001b[0m\u001b[0m\n\u001b[1;32m    578\u001b[0m     \u001b[0mresource_not_found\u001b[0m \u001b[0;34m=\u001b[0m \u001b[0;34mf\"\\n{sep}\\n{msg}\\n{sep}\\n\"\u001b[0m\u001b[0;34m\u001b[0m\u001b[0;34m\u001b[0m\u001b[0m\n\u001b[0;32m--> 579\u001b[0;31m     \u001b[0;32mraise\u001b[0m \u001b[0mLookupError\u001b[0m\u001b[0;34m(\u001b[0m\u001b[0mresource_not_found\u001b[0m\u001b[0;34m)\u001b[0m\u001b[0;34m\u001b[0m\u001b[0;34m\u001b[0m\u001b[0m\n\u001b[0m\u001b[1;32m    580\u001b[0m \u001b[0;34m\u001b[0m\u001b[0m\n\u001b[1;32m    581\u001b[0m \u001b[0;34m\u001b[0m\u001b[0m\n",
            "\u001b[0;31mLookupError\u001b[0m: \n**********************************************************************\n  Resource \u001b[93mpunkt_tab\u001b[0m not found.\n  Please use the NLTK Downloader to obtain the resource:\n\n  \u001b[31m>>> import nltk\n  >>> nltk.download('punkt_tab')\n  \u001b[0m\n  For more information see: https://www.nltk.org/data.html\n\n  Attempted to load \u001b[93mtokenizers/punkt_tab/english/\u001b[0m\n\n  Searched in:\n    - '/root/nltk_data'\n    - '/usr/nltk_data'\n    - '/usr/share/nltk_data'\n    - '/usr/lib/nltk_data'\n    - '/usr/share/nltk_data'\n    - '/usr/local/share/nltk_data'\n    - '/usr/lib/nltk_data'\n    - '/usr/local/lib/nltk_data'\n**********************************************************************\n"
          ]
        }
      ]
    },
    {
      "cell_type": "code",
      "source": [
        "print(output_df_text)"
      ],
      "metadata": {
        "id": "WRo1BtjgGOl9"
      },
      "execution_count": null,
      "outputs": []
    },
    {
      "cell_type": "code",
      "source": [
        "# Save the DataFrame to an Excel file\n",
        "output_df.to_excel('sentimental_analysis_output.xlsx', index=False)"
      ],
      "metadata": {
        "id": "mQ15AVOCqGyP"
      },
      "execution_count": null,
      "outputs": []
    },
    {
      "cell_type": "code",
      "source": [
        "print(stop_words)"
      ],
      "metadata": {
        "id": "5dZqfKfJI2re"
      },
      "execution_count": null,
      "outputs": []
    },
    {
      "cell_type": "code",
      "source": [
        "# Save the DataFrame to an Excel file\n",
        "output_df.to_excel('sentimental_analysis_output.xlsx', index=False)"
      ],
      "metadata": {
        "id": "riPA3vSG12Bd"
      },
      "execution_count": null,
      "outputs": []
    },
    {
      "cell_type": "markdown",
      "source": [
        "\n",
        "The definition of each of the variables given in the “Text Analysis.docx” file.\n",
        "Look for these variables in the analysis document (Text Analysis.docx):\n",
        "1.\tPOSITIVE SCORE\n",
        "2.\tNEGATIVE SCORE\n",
        "3.\tPOLARITY SCORE\n",
        "4.\tSUBJECTIVITY SCORE\n",
        "5.\tAVG SENTENCE LENGTH\n",
        "6.\tPERCENTAGE OF COMPLEX WORDS\n",
        "7.\tFOG INDEX\n",
        "8.\tAVG NUMBER OF WORDS PER SENTENCE\n",
        "9.\tCOMPLEX WORD COUNT\n",
        "10.\tWORD COUNT\n",
        "11.\tSYLLABLE PER WORD\n",
        "12.\tPERSONAL PRONOUNS\n",
        "13.\tAVG WORD LENGTH\n"
      ],
      "metadata": {
        "id": "_0FeJKgTnGul"
      }
    },
    {
      "cell_type": "code",
      "source": [
        "# Load the extracted texts from the article\n",
        "extracted_texts = output_df['Title']\n",
        "\n",
        "# Initialize NLTK's sentiment intensity analyzer\n",
        "sia = SentimentIntensityAnalyzer()\n",
        "\n",
        "# Define stop words list\n",
        "stop_words = set(stopwords.words('english'))\n",
        "\n",
        "# Initialize lists to store derived variables\n",
        "positive_words_list = []\n",
        "negative_words_list = []\n",
        "sentiment_scores = []\n",
        "\n",
        "# Iterate through each extracted text\n",
        "for text in extracted_texts:\n",
        "    # Tokenize the text into words\n",
        "    words = word_tokenize(text.lower())  # Convert to lowercase\n",
        "\n",
        "    # Remove stop words\n",
        "    words = [word for word in words if word not in stop_words]\n",
        "\n",
        "    # Initialize lists to store positive and negative words for this text\n",
        "    positive_words = []\n",
        "    negative_words = []\n",
        "\n",
        "    # Iterate through each word and determine if it's positive or negative\n",
        "    for word in words:\n",
        "        if sia.lexicon.get(word, 0) > 0:\n",
        "            positive_words.append(word)\n",
        "        elif sia.lexicon.get(word, 0) < 0:\n",
        "            negative_words.append(word)\n",
        "\n",
        "    # Append positive and negative words to the lists\n",
        "    positive_words_list.append(positive_words)\n",
        "    negative_words_list.append(negative_words)\n",
        "\n",
        "    # Compute sentiment score\n",
        "    sentiment_scores.append(sia.polarity_scores(text)['compound'])\n",
        "\n",
        "# Create a DataFrame to store the computed variables\n",
        "output_df_text = pd.DataFrame({\n",
        "    'Text': extracted_texts,\n",
        "    'Positive Words': positive_words_list,\n",
        "    'Negative Words': negative_words_list,\n",
        "    'Sentiment Score': sentiment_scores\n",
        "})\n",
        "\n",
        "# Print the DataFrame\n",
        "print(output_df_text)\n"
      ],
      "metadata": {
        "id": "-LuO5cna11-Y"
      },
      "execution_count": null,
      "outputs": []
    },
    {
      "cell_type": "markdown",
      "source": [
        "##5.\tOutput Data Structure"
      ],
      "metadata": {
        "id": "UftD36FAqAte"
      }
    },
    {
      "cell_type": "markdown",
      "source": [
        "\n",
        "Output Variables:\n",
        "1.\tAll input variables in “Input.xlsx”\n",
        "2.\tPOSITIVE SCORE\n",
        "3.\tNEGATIVE SCORE\n",
        "4.\tPOLARITY SCORE\n",
        "5.\tSUBJECTIVITY SCORE\n",
        "6.\tAVG SENTENCE LENGTH\n",
        "7.\tPERCENTAGE OF COMPLEX WORDS\n",
        "8.\tFOG INDEX\n",
        "9.\tAVG NUMBER OF WORDS PER SENTENCE\n",
        "10.\tCOMPLEX WORD COUNT\n",
        "11.\tWORD COUNT\n",
        "12.\tSYLLABLE PER WORD\n",
        "13.\tPERSONAL PRONOUNS\n",
        "14.\tAVG WORD LENGTH\n",
        "Check out the output data structure spreadsheet for the format of your output, i.e. “Output Data Structure.xlsx”.\n"
      ],
      "metadata": {
        "id": "CjhuaVkpp-Vg"
      }
    },
    {
      "cell_type": "code",
      "source": [
        "# Load stop words\n",
        "stop_words = set(stopwords.words('english'))\n",
        "\n",
        "# Function to clean text using stop words list\n",
        "def clean_text(text):\n",
        "    # Tokenize text into words\n",
        "    words = word_tokenize(text.lower())\n",
        "    # Remove stop words and punctuations\n",
        "    cleaned_words = [word for word in words if word.isalnum() and word not in stop_words]\n",
        "    return cleaned_words\n",
        "\n",
        "# Function to calculate average sentence length\n",
        "def calculate_average_sentence_length(text):\n",
        "    sentences = sent_tokenize(text)\n",
        "    total_words = sum(len(word_tokenize(sentence)) for sentence in sentences)\n",
        "    total_sentences = len(sentences)\n",
        "    return total_words / total_sentences if total_sentences != 0 else 0\n",
        "\n",
        "# Function to calculate percentage of complex words\n",
        "def calculate_percentage_complex_words(text):\n",
        "    # Load CMU Pronouncing Dictionary for syllable count\n",
        "    d = nltk.corpus.cmudict.dict()\n",
        "    words = word_tokenize(text.lower())\n",
        "    num_complex_words = sum(1 for word in words if len(d.get(word, [])) > 2)  # Words with more than 2 syllables are considered complex\n",
        "    return num_complex_words / len(words) if len(words) != 0 else 0\n",
        "\n",
        "# Function to calculate Fog Index\n",
        "def calculate_fog_index(average_sentence_length, percentage_complex_words):\n",
        "    return 0.4 * (average_sentence_length + percentage_complex_words)\n",
        "\n",
        "# Function to calculate average number of words per sentence\n",
        "def calculate_average_words_per_sentence(text):\n",
        "    words = word_tokenize(text)\n",
        "    sentences = sent_tokenize(text)\n",
        "    return len(words) / len(sentences) if len(sentences) != 0 else 0\n",
        "\n",
        "# Function to count complex words\n",
        "def count_complex_words(text):\n",
        "    d = nltk.corpus.cmudict.dict()\n",
        "    words = word_tokenize(text.lower())\n",
        "    complex_words = [word for word in words if len(d.get(word, [])) > 2]\n",
        "    return len(complex_words)\n",
        "\n",
        "# Function to count total words\n",
        "def count_total_words(text):\n",
        "    words = word_tokenize(text)\n",
        "    return len(words)\n",
        "\n",
        "# Function to count syllables per word\n",
        "def count_syllables_per_word(text):\n",
        "    d = nltk.corpus.cmudict.dict()\n",
        "    syllable_count = [len(d.get(word, [])) for word in word_tokenize(text.lower())]\n",
        "    return syllable_count\n",
        "\n",
        "# Function to count personal pronouns\n",
        "def count_personal_pronouns(text):\n",
        "    personal_pronouns = ['i', 'we', 'my', 'ours', 'us']\n",
        "    # Using regex to find counts of personal pronouns\n",
        "    text_lower = text.lower()\n",
        "    pronoun_count = sum(1 for pronoun in personal_pronouns if re.findall(r'\\b' + pronoun + r'\\b', text_lower))\n",
        "    return pronoun_count\n",
        "\n",
        "# Function to calculate average word length\n",
        "def calculate_average_word_length(text):\n",
        "    words = clean_text(text)\n",
        "    total_characters = sum(len(word) for word in words)\n",
        "    return total_characters / len(words) if len(words) != 0 else 0\n",
        "\n",
        "# Example input text\n",
        "texts = output_df['Title']\n",
        "\n",
        "# Calculate derived variables\n",
        "cleaned_text = clean_text(text)\n",
        "average_sentence_length = calculate_average_sentence_length(text)\n",
        "percentage_complex_words = calculate_percentage_complex_words(text)\n",
        "fog_index = calculate_fog_index(average_sentence_length, percentage_complex_words)\n",
        "average_words_per_sentence = calculate_average_words_per_sentence(text)\n",
        "complex_word_count = count_complex_words(text)\n",
        "total_word_count = count_total_words(text)\n",
        "syllables_per_word = count_syllables_per_word(text)\n",
        "personal_pronoun_count = count_personal_pronouns(text)\n",
        "average_word_length = calculate_average_word_length(text)\n",
        "\n",
        "# Print derived variables\n",
        "print(\"Cleaned Text:\", cleaned_text)\n",
        "print(\"Average Sentence Length:\", average_sentence_length)\n",
        "print(\"Percentage of Complex Words:\", percentage_complex_words)\n",
        "print(\"Fog Index:\", fog_index)\n",
        "print(\"Average Words Per Sentence:\", average_words_per_sentence)\n",
        "print(\"Complex Word Count:\", complex_word_count)\n",
        "print(\"Total Word Count:\", total_word_count)\n",
        "print(\"Syllables Per Word:\", syllables_per_word)\n",
        "print(\"Personal Pronoun Count:\", personal_pronoun_count)\n",
        "print(\"Average Word Length:\", average_word_length)\n"
      ],
      "metadata": {
        "id": "ULyrdYDW115B"
      },
      "execution_count": null,
      "outputs": []
    },
    {
      "cell_type": "code",
      "source": [
        "# Dictionary mapping variable names to descriptions\n",
        "output_data = []\n",
        "variable_descriptions = {\n",
        "    \"POSITIVE SCORE\": \"This score is calculated by assigning the value of +1 for each word if found in the Positive Dictionary and then adding up all the values.\",\n",
        "    \"NEGATIVE SCORE\": \"This score is calculated by assigning the value of -1 for each word if found in the Negative Dictionary and then adding up all the values. We multiply the score with -1 so that the score is a positive number.\",\n",
        "    \"POLARITY SCORE\": \"This is the score that determines if a given text is positive or negative in nature. It is calculated by using the formula: Polarity Score = (Positive Score – Negative Score) / ((Positive Score + Negative Score) + 0.000001). Range is from -1 to +1.\",\n",
        "    \"SUBJECTIVITY SCORE\": \"This is the score that determines if a given text is objective or subjective. It is calculated by using the formula: Subjectivity Score = (Positive Score + Negative Score) / ((Total Words after cleaning) + 0.000001). Range is from 0 to +1.\",\n",
        "    \"AVG SENTENCE LENGTH\": \"Average Sentence Length = the number of words / the number of sentences.\",\n",
        "    \"PERCENTAGE OF COMPLEX WORDS\": \"Percentage of Complex words = the number of complex words / the number of words.\",\n",
        "    \"FOG INDEX\": \"Fog Index = 0.4 * (Average Sentence Length + Percentage of Complex words).\",\n",
        "    \"AVG NUMBER OF WORDS PER SENTENCE\": \"Average Number of Words Per Sentence = the total number of words / the total number of sentences.\",\n",
        "    \"COMPLEX WORD COUNT\": \"Complex Word Count: Complex words are words in the text that contain more than two syllables.\",\n",
        "    \"WORD COUNT\": \"Word Count: We count the total cleaned words present in the text by removing the stop words and any punctuations like ? ! , . from the word before counting.\",\n",
        "    \"SYLLABLE PER WORD\": \"Syllable Count Per Word: We count the number of Syllables in each word of the text by counting the vowels present in each word. We also handle some exceptions like words ending with 'es', 'ed' by not counting them as a syllable.\",\n",
        "    \"PERSONAL PRONOUNS\": \"Personal Pronouns: To calculate Personal Pronouns mentioned in the text, we use regex to find the counts of the words - 'I', 'we', 'my', 'ours', and 'us'. Special care is taken so that the country name US is not included in the list.\",\n",
        "    \"AVG WORD LENGTH\": \"Average Word Length is calculated by the formula: Sum of the total number of characters in each word / Total number of words.\"\n",
        "}\n",
        "\n",
        "# Print variable descriptions\n",
        "for variable, description in variable_descriptions.items():\n",
        "    print(f\"{variable}: {description}\")\n"
      ],
      "metadata": {
        "id": "MtjO2N1m112l"
      },
      "execution_count": null,
      "outputs": []
    },
    {
      "cell_type": "code",
      "source": [
        "# Create DataFrame for output data\n",
        "output_df2 = pd.DataFrame(output_data, columns=['Text', 'Average Sentence Length', 'Percentage of Complex Words', 'Fog Index', 'Average Words Per Sentence', 'Complex Word Count', 'Total Word Count', 'Syllables Per Word', 'Personal Pronoun Count', 'Average Word Length', 'Positive Score', 'Negative Score', 'Polarity Score', 'Subjectivity Score'])\n"
      ],
      "metadata": {
        "id": "rRVShWSc4Qtt"
      },
      "execution_count": null,
      "outputs": []
    },
    {
      "cell_type": "code",
      "source": [
        "print(output_df2)"
      ],
      "metadata": {
        "id": "-L77HL5q4QrM"
      },
      "execution_count": null,
      "outputs": []
    },
    {
      "cell_type": "code",
      "source": [
        "# Save output DataFrame to Excel\n",
        "output_df.to_excel(\"output_data.xlsx\", index=False)"
      ],
      "metadata": {
        "id": "rpoe_RT54Qou"
      },
      "execution_count": null,
      "outputs": []
    }
  ]
}